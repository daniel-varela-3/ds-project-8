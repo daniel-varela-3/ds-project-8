{
 "cells": [
  {
   "cell_type": "code",
   "execution_count": null,
   "id": "cdec97f5-e02d-4534-a214-c895d071179e",
   "metadata": {},
   "outputs": [],
   "source": [
    "# data source: https://www.kaggle.com/datasets/mylesoneill/game-of-thrones?select=character-deaths.csvb"
   ]
  },
  {
   "cell_type": "code",
   "execution_count": 6,
   "id": "5194d4fb-03c6-4cc9-a72b-921a185f561e",
   "metadata": {},
   "outputs": [],
   "source": [
    "import pandas as pd\n",
    "import numpy as np\n",
    "import os"
   ]
  },
  {
   "cell_type": "code",
   "execution_count": 3,
   "id": "1ac8bce4-c65e-4b9e-820f-2ce24cad8c66",
   "metadata": {},
   "outputs": [
    {
     "data": {
      "text/html": [
       "        <script type=\"text/javascript\">\n",
       "        window.PlotlyConfig = {MathJaxConfig: 'local'};\n",
       "        if (window.MathJax && window.MathJax.Hub && window.MathJax.Hub.Config) {window.MathJax.Hub.Config({SVG: {font: \"STIX-Web\"}});}\n",
       "        if (typeof require !== 'undefined') {\n",
       "        require.undef(\"plotly\");\n",
       "        requirejs.config({\n",
       "            paths: {\n",
       "                'plotly': ['https://cdn.plot.ly/plotly-2.12.1.min']\n",
       "            }\n",
       "        });\n",
       "        require(['plotly'], function(Plotly) {\n",
       "            window._Plotly = Plotly;\n",
       "        });\n",
       "        }\n",
       "        </script>\n",
       "        "
      ]
     },
     "metadata": {},
     "output_type": "display_data"
    }
   ],
   "source": [
    "import plotly as py\n",
    "import plotly.graph_objs as go\n",
    "# from plotly.graph_objs import *\n",
    "from plotly.offline import download_plotlyjs, init_notebook_mode, plot, iplot\n",
    "init_notebook_mode(connected=True)"
   ]
  },
  {
   "cell_type": "code",
   "execution_count": 7,
   "id": "ac4fba5a-f834-493a-b4cd-eb230468bdbb",
   "metadata": {
    "tags": []
   },
   "outputs": [],
   "source": [
    "# read in dataset\n",
    "# I'm using a data set of all the deaths from A Song of Ice and Fire\n",
    "GoT = pd.read_csv(\"data/asoiaf_book_deaths.csv\")\n"
   ]
  },
  {
   "cell_type": "code",
   "execution_count": 10,
   "id": "8acc986d-ab8d-41b0-b8c4-e7715f1719e5",
   "metadata": {},
   "outputs": [
    {
     "name": "stdout",
     "output_type": "stream",
     "text": [
      "Index(['Name', 'Allegiances', 'Death Year', 'Book of Death', 'Death Chapter',\n",
      "       'Book Intro Chapter', 'Gender', 'Nobility', 'GoT', 'CoK', 'SoS', 'FfC',\n",
      "       'DwD'],\n",
      "      dtype='object')\n",
      "(917, 13)\n"
     ]
    },
    {
     "data": {
      "text/html": [
       "<div>\n",
       "<style scoped>\n",
       "    .dataframe tbody tr th:only-of-type {\n",
       "        vertical-align: middle;\n",
       "    }\n",
       "\n",
       "    .dataframe tbody tr th {\n",
       "        vertical-align: top;\n",
       "    }\n",
       "\n",
       "    .dataframe thead th {\n",
       "        text-align: right;\n",
       "    }\n",
       "</style>\n",
       "<table border=\"1\" class=\"dataframe\">\n",
       "  <thead>\n",
       "    <tr style=\"text-align: right;\">\n",
       "      <th></th>\n",
       "      <th>DataTypes</th>\n",
       "    </tr>\n",
       "  </thead>\n",
       "  <tbody>\n",
       "    <tr>\n",
       "      <th>Name</th>\n",
       "      <td>object</td>\n",
       "    </tr>\n",
       "    <tr>\n",
       "      <th>Allegiances</th>\n",
       "      <td>object</td>\n",
       "    </tr>\n",
       "    <tr>\n",
       "      <th>Death Year</th>\n",
       "      <td>float64</td>\n",
       "    </tr>\n",
       "    <tr>\n",
       "      <th>Book of Death</th>\n",
       "      <td>float64</td>\n",
       "    </tr>\n",
       "    <tr>\n",
       "      <th>Death Chapter</th>\n",
       "      <td>float64</td>\n",
       "    </tr>\n",
       "    <tr>\n",
       "      <th>Book Intro Chapter</th>\n",
       "      <td>float64</td>\n",
       "    </tr>\n",
       "    <tr>\n",
       "      <th>Gender</th>\n",
       "      <td>int64</td>\n",
       "    </tr>\n",
       "    <tr>\n",
       "      <th>Nobility</th>\n",
       "      <td>int64</td>\n",
       "    </tr>\n",
       "    <tr>\n",
       "      <th>GoT</th>\n",
       "      <td>int64</td>\n",
       "    </tr>\n",
       "    <tr>\n",
       "      <th>CoK</th>\n",
       "      <td>int64</td>\n",
       "    </tr>\n",
       "    <tr>\n",
       "      <th>SoS</th>\n",
       "      <td>int64</td>\n",
       "    </tr>\n",
       "    <tr>\n",
       "      <th>FfC</th>\n",
       "      <td>int64</td>\n",
       "    </tr>\n",
       "    <tr>\n",
       "      <th>DwD</th>\n",
       "      <td>int64</td>\n",
       "    </tr>\n",
       "  </tbody>\n",
       "</table>\n",
       "</div>"
      ],
      "text/plain": [
       "                   DataTypes\n",
       "Name                  object\n",
       "Allegiances           object\n",
       "Death Year           float64\n",
       "Book of Death        float64\n",
       "Death Chapter        float64\n",
       "Book Intro Chapter   float64\n",
       "Gender                 int64\n",
       "Nobility               int64\n",
       "GoT                    int64\n",
       "CoK                    int64\n",
       "SoS                    int64\n",
       "FfC                    int64\n",
       "DwD                    int64"
      ]
     },
     "execution_count": 10,
     "metadata": {},
     "output_type": "execute_result"
    }
   ],
   "source": [
    "# info on data set\n",
    "print(GoT.columns)\n",
    "print(GoT.shape)\n",
    "pd.DataFrame(GoT.dtypes, columns=[\"DataTypes\"])"
   ]
  },
  {
   "cell_type": "code",
   "execution_count": 94,
   "id": "b74af12d-4c32-4e60-986b-e56509bf9dff",
   "metadata": {},
   "outputs": [
    {
     "data": {
      "text/html": [
       "<div>\n",
       "<style scoped>\n",
       "    .dataframe tbody tr th:only-of-type {\n",
       "        vertical-align: middle;\n",
       "    }\n",
       "\n",
       "    .dataframe tbody tr th {\n",
       "        vertical-align: top;\n",
       "    }\n",
       "\n",
       "    .dataframe thead th {\n",
       "        text-align: right;\n",
       "    }\n",
       "</style>\n",
       "<table border=\"1\" class=\"dataframe\">\n",
       "  <thead>\n",
       "    <tr style=\"text-align: right;\">\n",
       "      <th></th>\n",
       "      <th>Name</th>\n",
       "      <th>Allegiances</th>\n",
       "      <th>Death Year</th>\n",
       "      <th>Book of Death</th>\n",
       "      <th>Death Chapter</th>\n",
       "      <th>Book Intro Chapter</th>\n",
       "      <th>Gender</th>\n",
       "      <th>Nobility</th>\n",
       "      <th>GoT</th>\n",
       "      <th>CoK</th>\n",
       "      <th>SoS</th>\n",
       "      <th>FfC</th>\n",
       "      <th>DwD</th>\n",
       "      <th>Death count</th>\n",
       "    </tr>\n",
       "  </thead>\n",
       "  <tbody>\n",
       "    <tr>\n",
       "      <th>409</th>\n",
       "      <td>Jon Snow</td>\n",
       "      <td>Night's Watch</td>\n",
       "      <td>666.0</td>\n",
       "      <td>666.0</td>\n",
       "      <td>666.0</td>\n",
       "      <td>1.0</td>\n",
       "      <td>1</td>\n",
       "      <td>1</td>\n",
       "      <td>1</td>\n",
       "      <td>1</td>\n",
       "      <td>1</td>\n",
       "      <td>1</td>\n",
       "      <td>1</td>\n",
       "      <td>1</td>\n",
       "    </tr>\n",
       "  </tbody>\n",
       "</table>\n",
       "</div>"
      ],
      "text/plain": [
       "         Name    Allegiances  Death Year  Book of Death  Death Chapter  \\\n",
       "409  Jon Snow  Night's Watch       666.0          666.0          666.0   \n",
       "\n",
       "     Book Intro Chapter  Gender  Nobility  GoT  CoK  SoS  FfC  DwD  \\\n",
       "409                 1.0       1         1    1    1    1    1    1   \n",
       "\n",
       "     Death count  \n",
       "409            1  "
      ]
     },
     "execution_count": 94,
     "metadata": {},
     "output_type": "execute_result"
    }
   ],
   "source": [
    "# pull in first 5 rows\n",
    "GoT[GoT[\"Name\"]==\"Jon Snow\"]"
   ]
  },
  {
   "cell_type": "code",
   "execution_count": 11,
   "id": "2d409ad6-eae4-4361-9d65-0d8ccd95f422",
   "metadata": {},
   "outputs": [
    {
     "data": {
      "text/plain": [
       "Death Chapter         618\n",
       "Death Year            612\n",
       "Book of Death         610\n",
       "Book Intro Chapter     12\n",
       "Name                    0\n",
       "Allegiances             0\n",
       "Gender                  0\n",
       "Nobility                0\n",
       "GoT                     0\n",
       "CoK                     0\n",
       "SoS                     0\n",
       "FfC                     0\n",
       "DwD                     0\n",
       "dtype: int64"
      ]
     },
     "execution_count": 11,
     "metadata": {},
     "output_type": "execute_result"
    }
   ],
   "source": [
    "# B. Which column has the most missing data? Sort the columns by sum of null values\n",
    "GoT.isnull().sum().sort_values(ascending=False)"
   ]
  },
  {
   "cell_type": "code",
   "execution_count": 18,
   "id": "39e1bee5-5d14-4e66-8c9c-b7a602754774",
   "metadata": {},
   "outputs": [
    {
     "data": {
      "text/plain": [
       "608"
      ]
     },
     "execution_count": 18,
     "metadata": {},
     "output_type": "execute_result"
    }
   ],
   "source": [
    "# C. Looks like Death Chapter is our biggest problem, along with Death Year, and Book of Death\n",
    "# Use a combination of filtering, isnull, and sum to count how many rows are missing all 3 columns\n",
    "GoT[GoT['Death Chapter'].isnull()]['Death Year'].isnull().sum()"
   ]
  },
  {
   "cell_type": "code",
   "execution_count": 21,
   "id": "f3db18d7-a2f5-46e6-a513-0f0ba605566b",
   "metadata": {},
   "outputs": [
    {
     "data": {
      "text/plain": [
       "Name                  0\n",
       "Allegiances           0\n",
       "Death Year            0\n",
       "Book of Death         0\n",
       "Death Chapter         0\n",
       "Book Intro Chapter    0\n",
       "Gender                0\n",
       "Nobility              0\n",
       "GoT                   0\n",
       "CoK                   0\n",
       "SoS                   0\n",
       "FfC                   0\n",
       "DwD                   0\n",
       "dtype: int64"
      ]
     },
     "execution_count": 21,
     "metadata": {},
     "output_type": "execute_result"
    }
   ],
   "source": [
    "## let's make all null values equal to 666 --- these are characters that have not died\n",
    "GoT['Death Chapter'].fillna(666, inplace=True)\n",
    "GoT['Death Year'].fillna(666, inplace=True)\n",
    "GoT['Book of Death'].fillna(666, inplace=True)\n",
    "GoT['Book Intro Chapter'].fillna(666, inplace=True)\n",
    "GoT.isnull().sum()"
   ]
  },
  {
   "cell_type": "code",
   "execution_count": 100,
   "id": "5cc04108-a720-491e-af71-75a7f4ac6059",
   "metadata": {},
   "outputs": [],
   "source": [
    "## remove Null/666's values -- these characters are still alive\n",
    "GoT_dead = GoT[GoT['Death Chapter'] != 666]"
   ]
  },
  {
   "cell_type": "code",
   "execution_count": 101,
   "id": "d5ed63c8-3e32-40a8-aaa8-a0967639f51e",
   "metadata": {},
   "outputs": [
    {
     "data": {
      "text/html": [
       "<div>\n",
       "<style scoped>\n",
       "    .dataframe tbody tr th:only-of-type {\n",
       "        vertical-align: middle;\n",
       "    }\n",
       "\n",
       "    .dataframe tbody tr th {\n",
       "        vertical-align: top;\n",
       "    }\n",
       "\n",
       "    .dataframe thead th {\n",
       "        text-align: right;\n",
       "    }\n",
       "</style>\n",
       "<table border=\"1\" class=\"dataframe\">\n",
       "  <thead>\n",
       "    <tr style=\"text-align: right;\">\n",
       "      <th></th>\n",
       "      <th>Death Year</th>\n",
       "      <th>Book of Death</th>\n",
       "      <th>Death Chapter</th>\n",
       "      <th>Book Intro Chapter</th>\n",
       "      <th>Gender</th>\n",
       "      <th>Nobility</th>\n",
       "      <th>GoT</th>\n",
       "      <th>CoK</th>\n",
       "      <th>SoS</th>\n",
       "      <th>FfC</th>\n",
       "      <th>DwD</th>\n",
       "      <th>Death count</th>\n",
       "    </tr>\n",
       "  </thead>\n",
       "  <tbody>\n",
       "    <tr>\n",
       "      <th>count</th>\n",
       "      <td>299.000000</td>\n",
       "      <td>299.000000</td>\n",
       "      <td>299.000000</td>\n",
       "      <td>299.000000</td>\n",
       "      <td>299.000000</td>\n",
       "      <td>299.000000</td>\n",
       "      <td>299.000000</td>\n",
       "      <td>299.000000</td>\n",
       "      <td>299.000000</td>\n",
       "      <td>299.000000</td>\n",
       "      <td>299.000000</td>\n",
       "      <td>299.0</td>\n",
       "    </tr>\n",
       "    <tr>\n",
       "      <th>mean</th>\n",
       "      <td>304.043478</td>\n",
       "      <td>7.334448</td>\n",
       "      <td>40.070234</td>\n",
       "      <td>35.257525</td>\n",
       "      <td>0.889632</td>\n",
       "      <td>0.364548</td>\n",
       "      <td>0.344482</td>\n",
       "      <td>0.424749</td>\n",
       "      <td>0.421405</td>\n",
       "      <td>0.100334</td>\n",
       "      <td>0.167224</td>\n",
       "      <td>1.0</td>\n",
       "    </tr>\n",
       "    <tr>\n",
       "      <th>std</th>\n",
       "      <td>42.224251</td>\n",
       "      <td>54.157568</td>\n",
       "      <td>20.470270</td>\n",
       "      <td>66.618446</td>\n",
       "      <td>0.313873</td>\n",
       "      <td>0.482110</td>\n",
       "      <td>0.475996</td>\n",
       "      <td>0.495134</td>\n",
       "      <td>0.494612</td>\n",
       "      <td>0.300949</td>\n",
       "      <td>0.373801</td>\n",
       "      <td>0.0</td>\n",
       "    </tr>\n",
       "    <tr>\n",
       "      <th>min</th>\n",
       "      <td>297.000000</td>\n",
       "      <td>1.000000</td>\n",
       "      <td>0.000000</td>\n",
       "      <td>0.000000</td>\n",
       "      <td>0.000000</td>\n",
       "      <td>0.000000</td>\n",
       "      <td>0.000000</td>\n",
       "      <td>0.000000</td>\n",
       "      <td>0.000000</td>\n",
       "      <td>0.000000</td>\n",
       "      <td>0.000000</td>\n",
       "      <td>1.0</td>\n",
       "    </tr>\n",
       "    <tr>\n",
       "      <th>25%</th>\n",
       "      <td>299.000000</td>\n",
       "      <td>2.000000</td>\n",
       "      <td>25.500000</td>\n",
       "      <td>11.500000</td>\n",
       "      <td>1.000000</td>\n",
       "      <td>0.000000</td>\n",
       "      <td>0.000000</td>\n",
       "      <td>0.000000</td>\n",
       "      <td>0.000000</td>\n",
       "      <td>0.000000</td>\n",
       "      <td>0.000000</td>\n",
       "      <td>1.0</td>\n",
       "    </tr>\n",
       "    <tr>\n",
       "      <th>50%</th>\n",
       "      <td>299.000000</td>\n",
       "      <td>3.000000</td>\n",
       "      <td>39.000000</td>\n",
       "      <td>29.000000</td>\n",
       "      <td>1.000000</td>\n",
       "      <td>0.000000</td>\n",
       "      <td>0.000000</td>\n",
       "      <td>0.000000</td>\n",
       "      <td>0.000000</td>\n",
       "      <td>0.000000</td>\n",
       "      <td>0.000000</td>\n",
       "      <td>1.0</td>\n",
       "    </tr>\n",
       "    <tr>\n",
       "      <th>75%</th>\n",
       "      <td>300.000000</td>\n",
       "      <td>4.000000</td>\n",
       "      <td>57.000000</td>\n",
       "      <td>43.000000</td>\n",
       "      <td>1.000000</td>\n",
       "      <td>1.000000</td>\n",
       "      <td>1.000000</td>\n",
       "      <td>1.000000</td>\n",
       "      <td>1.000000</td>\n",
       "      <td>0.000000</td>\n",
       "      <td>0.000000</td>\n",
       "      <td>1.0</td>\n",
       "    </tr>\n",
       "    <tr>\n",
       "      <th>max</th>\n",
       "      <td>666.000000</td>\n",
       "      <td>666.000000</td>\n",
       "      <td>80.000000</td>\n",
       "      <td>666.000000</td>\n",
       "      <td>1.000000</td>\n",
       "      <td>1.000000</td>\n",
       "      <td>1.000000</td>\n",
       "      <td>1.000000</td>\n",
       "      <td>1.000000</td>\n",
       "      <td>1.000000</td>\n",
       "      <td>1.000000</td>\n",
       "      <td>1.0</td>\n",
       "    </tr>\n",
       "  </tbody>\n",
       "</table>\n",
       "</div>"
      ],
      "text/plain": [
       "       Death Year  Book of Death  Death Chapter  Book Intro Chapter  \\\n",
       "count  299.000000     299.000000     299.000000          299.000000   \n",
       "mean   304.043478       7.334448      40.070234           35.257525   \n",
       "std     42.224251      54.157568      20.470270           66.618446   \n",
       "min    297.000000       1.000000       0.000000            0.000000   \n",
       "25%    299.000000       2.000000      25.500000           11.500000   \n",
       "50%    299.000000       3.000000      39.000000           29.000000   \n",
       "75%    300.000000       4.000000      57.000000           43.000000   \n",
       "max    666.000000     666.000000      80.000000          666.000000   \n",
       "\n",
       "           Gender    Nobility         GoT         CoK         SoS         FfC  \\\n",
       "count  299.000000  299.000000  299.000000  299.000000  299.000000  299.000000   \n",
       "mean     0.889632    0.364548    0.344482    0.424749    0.421405    0.100334   \n",
       "std      0.313873    0.482110    0.475996    0.495134    0.494612    0.300949   \n",
       "min      0.000000    0.000000    0.000000    0.000000    0.000000    0.000000   \n",
       "25%      1.000000    0.000000    0.000000    0.000000    0.000000    0.000000   \n",
       "50%      1.000000    0.000000    0.000000    0.000000    0.000000    0.000000   \n",
       "75%      1.000000    1.000000    1.000000    1.000000    1.000000    0.000000   \n",
       "max      1.000000    1.000000    1.000000    1.000000    1.000000    1.000000   \n",
       "\n",
       "              DwD  Death count  \n",
       "count  299.000000        299.0  \n",
       "mean     0.167224          1.0  \n",
       "std      0.373801          0.0  \n",
       "min      0.000000          1.0  \n",
       "25%      0.000000          1.0  \n",
       "50%      0.000000          1.0  \n",
       "75%      0.000000          1.0  \n",
       "max      1.000000          1.0  "
      ]
     },
     "execution_count": 101,
     "metadata": {},
     "output_type": "execute_result"
    }
   ],
   "source": [
    "# stats on each column\n",
    "GoT_dead.describe()"
   ]
  },
  {
   "cell_type": "code",
   "execution_count": 102,
   "id": "af8d2f4b-4309-43bf-8f24-a81dd8b8cf89",
   "metadata": {},
   "outputs": [
    {
     "name": "stdout",
     "output_type": "stream",
     "text": [
      "['None' 'House Greyjoy' \"Night's Watch\" 'House Stark' 'Baratheon'\n",
      " 'House Lannister' 'Lannister' 'Stark' 'Greyjoy' 'Wildling' 'House Tully'\n",
      " 'House Targaryen' 'Targaryen' 'Arryn' 'House Baratheon' 'House Arryn'\n",
      " 'House Tyrell' 'Tully' 'House Martell' 'Martell' 'Tyrell']\n"
     ]
    }
   ],
   "source": [
    "# print all Allegiances\n",
    "print(GoT_dead[\"Allegiances\"].unique())"
   ]
  },
  {
   "cell_type": "code",
   "execution_count": 103,
   "id": "9e9a339a-2c37-4aac-a84c-f3eef2cd196d",
   "metadata": {},
   "outputs": [
    {
     "data": {
      "text/plain": [
       "None               73\n",
       "Night's Watch      56\n",
       "Stark              27\n",
       "Wildling           23\n",
       "House Stark        19\n",
       "Baratheon          18\n",
       "Lannister          18\n",
       "House Greyjoy      14\n",
       "House Lannister    11\n",
       "Greyjoy             8\n",
       "Targaryen           5\n",
       "House Baratheon     5\n",
       "House Tully         5\n",
       "House Targaryen     4\n",
       "Tully               4\n",
       "Arryn               3\n",
       "Martell             2\n",
       "House Arryn         1\n",
       "House Tyrell        1\n",
       "House Martell       1\n",
       "Tyrell              1\n",
       "Name: Allegiances, dtype: int64"
      ]
     },
     "execution_count": 103,
     "metadata": {},
     "output_type": "execute_result"
    }
   ],
   "source": [
    "# deaths by Allegiance \n",
    "GoT_dead[\"Allegiances\"].value_counts()"
   ]
  },
  {
   "cell_type": "code",
   "execution_count": 113,
   "id": "69d6b089-a89d-436b-967f-ed918c4fa0bd",
   "metadata": {},
   "outputs": [
    {
     "data": {
      "text/html": [
       "<div>\n",
       "<style scoped>\n",
       "    .dataframe tbody tr th:only-of-type {\n",
       "        vertical-align: middle;\n",
       "    }\n",
       "\n",
       "    .dataframe tbody tr th {\n",
       "        vertical-align: top;\n",
       "    }\n",
       "\n",
       "    .dataframe thead th {\n",
       "        text-align: right;\n",
       "    }\n",
       "</style>\n",
       "<table border=\"1\" class=\"dataframe\">\n",
       "  <thead>\n",
       "    <tr style=\"text-align: right;\">\n",
       "      <th></th>\n",
       "      <th>Allegiances</th>\n",
       "      <th>Death count</th>\n",
       "    </tr>\n",
       "  </thead>\n",
       "  <tbody>\n",
       "    <tr>\n",
       "      <th>8</th>\n",
       "      <td>Night's Watch</td>\n",
       "      <td>19</td>\n",
       "    </tr>\n",
       "    <tr>\n",
       "      <th>4</th>\n",
       "      <td>House Stark</td>\n",
       "      <td>9</td>\n",
       "    </tr>\n",
       "    <tr>\n",
       "      <th>9</th>\n",
       "      <td>None</td>\n",
       "      <td>9</td>\n",
       "    </tr>\n",
       "    <tr>\n",
       "      <th>0</th>\n",
       "      <td>Baratheon</td>\n",
       "      <td>8</td>\n",
       "    </tr>\n",
       "    <tr>\n",
       "      <th>10</th>\n",
       "      <td>Stark</td>\n",
       "      <td>4</td>\n",
       "    </tr>\n",
       "    <tr>\n",
       "      <th>12</th>\n",
       "      <td>Wildling</td>\n",
       "      <td>4</td>\n",
       "    </tr>\n",
       "    <tr>\n",
       "      <th>2</th>\n",
       "      <td>House Baratheon</td>\n",
       "      <td>3</td>\n",
       "    </tr>\n",
       "    <tr>\n",
       "      <th>6</th>\n",
       "      <td>Lannister</td>\n",
       "      <td>3</td>\n",
       "    </tr>\n",
       "    <tr>\n",
       "      <th>3</th>\n",
       "      <td>House Lannister</td>\n",
       "      <td>2</td>\n",
       "    </tr>\n",
       "    <tr>\n",
       "      <th>7</th>\n",
       "      <td>Martell</td>\n",
       "      <td>2</td>\n",
       "    </tr>\n",
       "    <tr>\n",
       "      <th>11</th>\n",
       "      <td>Targaryen</td>\n",
       "      <td>2</td>\n",
       "    </tr>\n",
       "    <tr>\n",
       "      <th>1</th>\n",
       "      <td>Greyjoy</td>\n",
       "      <td>1</td>\n",
       "    </tr>\n",
       "    <tr>\n",
       "      <th>5</th>\n",
       "      <td>House Targaryen</td>\n",
       "      <td>1</td>\n",
       "    </tr>\n",
       "  </tbody>\n",
       "</table>\n",
       "</div>"
      ],
      "text/plain": [
       "        Allegiances  Death count\n",
       "8     Night's Watch           19\n",
       "4       House Stark            9\n",
       "9              None            9\n",
       "0         Baratheon            8\n",
       "10            Stark            4\n",
       "12         Wildling            4\n",
       "2   House Baratheon            3\n",
       "6         Lannister            3\n",
       "3   House Lannister            2\n",
       "7           Martell            2\n",
       "11        Targaryen            2\n",
       "1           Greyjoy            1\n",
       "5   House Targaryen            1"
      ]
     },
     "execution_count": 113,
     "metadata": {},
     "output_type": "execute_result"
    }
   ],
   "source": [
    "# which allegiance has the most deaths in the first 10 chapters? \n",
    "first_ten = GoT_dead[GoT_dead[\"Book Intro Chapter\"] <= 10]\n",
    "first_ten.head()\n",
    "df = first_ten.groupby('Allegiances')['Death count'].sum()\n",
    "df2 = first_ten.groupby('Allegiances').count().reset_index()\n",
    "deaths_by_alliance = df2[[\"Allegiances\",\"Death count\"]]\n",
    "deaths_by_alliance.sort_values(\"Death count\", ascending=False)"
   ]
  },
  {
   "cell_type": "code",
   "execution_count": 114,
   "id": "a59d4f0d-8a7b-47ef-a070-a0c05c89f886",
   "metadata": {},
   "outputs": [
    {
     "data": {
      "text/plain": [
       "plotly.graph_objs._figure.Figure"
      ]
     },
     "execution_count": 114,
     "metadata": {},
     "output_type": "execute_result"
    }
   ],
   "source": [
    "# data objects\n",
    "go.Bar\n",
    "# figure objects\n",
    "#go.Format\n",
    "go.Figure\n"
   ]
  },
  {
   "cell_type": "code",
   "execution_count": 116,
   "id": "42e3665f-dc23-4fa8-aad6-115da12e2913",
   "metadata": {},
   "outputs": [
    {
     "data": {
      "text/html": [
       "<div>\n",
       "<style scoped>\n",
       "    .dataframe tbody tr th:only-of-type {\n",
       "        vertical-align: middle;\n",
       "    }\n",
       "\n",
       "    .dataframe tbody tr th {\n",
       "        vertical-align: top;\n",
       "    }\n",
       "\n",
       "    .dataframe thead th {\n",
       "        text-align: right;\n",
       "    }\n",
       "</style>\n",
       "<table border=\"1\" class=\"dataframe\">\n",
       "  <thead>\n",
       "    <tr style=\"text-align: right;\">\n",
       "      <th></th>\n",
       "      <th>Allegiances</th>\n",
       "      <th>Death count</th>\n",
       "    </tr>\n",
       "  </thead>\n",
       "  <tbody>\n",
       "    <tr>\n",
       "      <th>0</th>\n",
       "      <td>Baratheon</td>\n",
       "      <td>8</td>\n",
       "    </tr>\n",
       "    <tr>\n",
       "      <th>1</th>\n",
       "      <td>Greyjoy</td>\n",
       "      <td>1</td>\n",
       "    </tr>\n",
       "    <tr>\n",
       "      <th>2</th>\n",
       "      <td>House Baratheon</td>\n",
       "      <td>3</td>\n",
       "    </tr>\n",
       "    <tr>\n",
       "      <th>3</th>\n",
       "      <td>House Lannister</td>\n",
       "      <td>2</td>\n",
       "    </tr>\n",
       "    <tr>\n",
       "      <th>4</th>\n",
       "      <td>House Stark</td>\n",
       "      <td>9</td>\n",
       "    </tr>\n",
       "    <tr>\n",
       "      <th>5</th>\n",
       "      <td>House Targaryen</td>\n",
       "      <td>1</td>\n",
       "    </tr>\n",
       "    <tr>\n",
       "      <th>6</th>\n",
       "      <td>Lannister</td>\n",
       "      <td>3</td>\n",
       "    </tr>\n",
       "    <tr>\n",
       "      <th>7</th>\n",
       "      <td>Martell</td>\n",
       "      <td>2</td>\n",
       "    </tr>\n",
       "    <tr>\n",
       "      <th>8</th>\n",
       "      <td>Night's Watch</td>\n",
       "      <td>19</td>\n",
       "    </tr>\n",
       "    <tr>\n",
       "      <th>9</th>\n",
       "      <td>None</td>\n",
       "      <td>9</td>\n",
       "    </tr>\n",
       "    <tr>\n",
       "      <th>10</th>\n",
       "      <td>Stark</td>\n",
       "      <td>4</td>\n",
       "    </tr>\n",
       "    <tr>\n",
       "      <th>11</th>\n",
       "      <td>Targaryen</td>\n",
       "      <td>2</td>\n",
       "    </tr>\n",
       "    <tr>\n",
       "      <th>12</th>\n",
       "      <td>Wildling</td>\n",
       "      <td>4</td>\n",
       "    </tr>\n",
       "  </tbody>\n",
       "</table>\n",
       "</div>"
      ],
      "text/plain": [
       "        Allegiances  Death count\n",
       "0         Baratheon            8\n",
       "1           Greyjoy            1\n",
       "2   House Baratheon            3\n",
       "3   House Lannister            2\n",
       "4       House Stark            9\n",
       "5   House Targaryen            1\n",
       "6         Lannister            3\n",
       "7           Martell            2\n",
       "8     Night's Watch           19\n",
       "9              None            9\n",
       "10            Stark            4\n",
       "11        Targaryen            2\n",
       "12         Wildling            4"
      ]
     },
     "execution_count": 116,
     "metadata": {},
     "output_type": "execute_result"
    }
   ],
   "source": [
    "deaths_by_alliance"
   ]
  },
  {
   "cell_type": "code",
   "execution_count": 132,
   "id": "e85b8af6-e6db-4eec-bf9e-fe505220f31d",
   "metadata": {},
   "outputs": [
    {
     "data": {
      "text/plain": [
       "<AxesSubplot:title={'center':'Deaths by allegiance in first 10 chapters of ASOIAF'}, xlabel='Allegiances', ylabel='# of deaths'>"
      ]
     },
     "execution_count": 132,
     "metadata": {},
     "output_type": "execute_result"
    },
    {
     "data": {
      "image/png": "[encoded data removed]",
      "text/plain": [
       "<Figure size 432x288 with 1 Axes>"
      ]
     },
     "metadata": {
      "needs_background": "light"
     },
     "output_type": "display_data"
    }
   ],
   "source": [
    "\n",
    "plot = deaths_by_alliance.set_index(\"Allegiances\").sort_values(\"Death count\", ascending=False).plot(kind = 'bar',color=\"black\")\n",
    "plot.set_title(\"Deaths by allegiance in first 10 chapters of ASOIAF\")\n",
    "plot.set_ylabel(\"# of deaths\")\n",
    "plot"
   ]
  }
 ],
 "metadata": {
  "kernelspec": {
   "display_name": "default:Python",
   "language": "python",
   "name": "conda-env-default-py"
  },
  "language_info": {
   "codemirror_mode": {
    "name": "ipython",
    "version": 3
   },
   "file_extension": ".py",
   "mimetype": "text/x-python",
   "name": "python",
   "nbconvert_exporter": "python",
   "pygments_lexer": "ipython3",
   "version": "3.9.13"
  }
 },
 "nbformat": 4,
 "nbformat_minor": 5
}
