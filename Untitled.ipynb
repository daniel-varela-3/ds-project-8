{
 "cells": [
  {
   "cell_type": "code",
   "execution_count": 1,
   "id": "647c170c-89b1-4044-bd55-6775ed68cd6e",
   "metadata": {},
   "outputs": [
    {
     "data": {
      "text/html": [
       "        <script type=\"text/javascript\">\n",
       "        window.PlotlyConfig = {MathJaxConfig: 'local'};\n",
       "        if (window.MathJax && window.MathJax.Hub && window.MathJax.Hub.Config) {window.MathJax.Hub.Config({SVG: {font: \"STIX-Web\"}});}\n",
       "        if (typeof require !== 'undefined') {\n",
       "        require.undef(\"plotly\");\n",
       "        requirejs.config({\n",
       "            paths: {\n",
       "                'plotly': ['https://cdn.plot.ly/plotly-2.12.1.min']\n",
       "            }\n",
       "        });\n",
       "        require(['plotly'], function(Plotly) {\n",
       "            window._Plotly = Plotly;\n",
       "        });\n",
       "        }\n",
       "        </script>\n",
       "        "
      ]
     },
     "metadata": {},
     "output_type": "display_data"
    }
   ],
   "source": [
    "import pandas as pd\n",
    "import numpy as np\n",
    "import os\n",
    "import plotly as py\n",
    "import plotly.graph_objs as go\n",
    "from plotly.offline import download_plotlyjs, init_notebook_mode, plot, iplot\n",
    "init_notebook_mode(connected=True)\n"
   ]
  },
  {
   "cell_type": "code",
   "execution_count": 2,
   "id": "f654a8c7-d228-42c9-be9f-6c02061c86ca",
   "metadata": {},
   "outputs": [],
   "source": [
    "\n",
    "Region = pd.DataFrame({'Allegiances': ['Arryn', 'Baratheon', 'Greyjoy', 'Lannister', 'Martell',\"Night's Watch\",'None','Stark','Targaryen','Tully','Tyrell','Wildling'], 'Westeros Location': ['East', 'East', 'West', 'West', 'South',\"North\",'None','North','East','Midwest','West','North']})\n",
    "royalty = pd.DataFrame({'Allegiances': ['Targaryen', 'Baratheon', 'Lannister','Stark'], 'Number of Kings/Queens': [18,3,1,1]})\n"
   ]
  },
  {
   "cell_type": "code",
   "execution_count": 3,
   "id": "da616bd0-d9f0-4bf9-b16a-7bd7ad49db31",
   "metadata": {},
   "outputs": [],
   "source": [
    "df = pd.read_csv(\"data/asoiaf_book_deaths.csv\")"
   ]
  },
  {
   "cell_type": "code",
   "execution_count": 4,
   "id": "f59f2d9d-4a4f-4a2d-903f-4846b5e11ff7",
   "metadata": {},
   "outputs": [
    {
     "name": "stderr",
     "output_type": "stream",
     "text": [
      "/tmp/ipykernel_411/2455027940.py:7: SettingWithCopyWarning:\n",
      "\n",
      "\n",
      "A value is trying to be set on a copy of a slice from a DataFrame.\n",
      "Try using .loc[row_indexer,col_indexer] = value instead\n",
      "\n",
      "See the caveats in the documentation: https://pandas.pydata.org/pandas-docs/stable/user_guide/indexing.html#returning-a-view-versus-a-copy\n",
      "\n",
      "/tmp/ipykernel_411/2455027940.py:8: SettingWithCopyWarning:\n",
      "\n",
      "\n",
      "A value is trying to be set on a copy of a slice from a DataFrame.\n",
      "Try using .loc[row_indexer,col_indexer] = value instead\n",
      "\n",
      "See the caveats in the documentation: https://pandas.pydata.org/pandas-docs/stable/user_guide/indexing.html#returning-a-view-versus-a-copy\n",
      "\n"
     ]
    }
   ],
   "source": [
    "df['Death Chapter'].fillna(666, inplace=True)\n",
    "df['Death Year'].fillna(666, inplace=True)\n",
    "df['Book of Death'].fillna(666, inplace=True)\n",
    "df['Book Intro Chapter'].fillna(666, inplace=True)\n",
    "\n",
    "df2 = df[df['Death Chapter'] != 666]\n",
    "df2[\"Allegiances\"] = df2[\"Allegiances\"].str.replace(\"House \",\"\")\n",
    "df2[\"Death Count\"] = 1\n",
    "\n",
    "df2_grouped = df2.groupby(\"Allegiances\").count().reset_index()\n",
    "df2_grouped[\"Death Count\"] = df2_grouped[\"Death Year\"] \n",
    "deaths_by_allegiance = df2_grouped[[\"Allegiances\",\"Death Count\"]]\n",
    "\n",
    "df3 = pd.merge(deaths_by_allegiance, Region, how=\"left\",left_on=\"Allegiances\",right_on=\"Allegiances\")\n",
    "\n",
    "df4 = pd.merge(df3, royalty, how = \"left\", left_on=\"Allegiances\",right_on=\"Allegiances\")\n",
    "df4['Number of Kings/Queens'].fillna(0, inplace=True)\n",
    "df4.sort_values(by=['Death Count'], inplace=True)\n"
   ]
  },
  {
   "cell_type": "code",
   "execution_count": 5,
   "id": "06c5908d-0d67-434f-ad20-d02c9fdb941d",
   "metadata": {},
   "outputs": [
    {
     "data": {
      "application/vnd.plotly.v1+json": {
       "config": {
        "linkText": "Export to plot.ly",
        "plotlyServerURL": "https://plot.ly",
        "showLink": false
       },
       "data": [
        {
         "marker": {
          "color": "black"
         },
         "type": "bar",
         "x": [
          "West",
          "South",
          "East",
          "East",
          "Midwest",
          "West",
          "East",
          "North",
          "West",
          "North",
          "North",
          "None"
         ],
         "y": [
          2,
          3,
          4,
          9,
          9,
          22,
          23,
          23,
          29,
          46,
          56,
          73
         ]
        }
       ],
       "layout": {
        "autosize": true,
        "title": {
         "text": "Deaths in ASOIAF by Region"
        },
        "xaxis": {
         "autorange": true,
         "range": [
          -0.5,
          5.5
         ],
         "type": "category"
        },
        "yaxis": {
         "autorange": true,
         "range": [
          0,
          131.57894736842104
         ],
         "type": "linear"
        }
       }
      },
      "image/png": "[encoded data removed]",
      "text/html": [
       "<div>                            <div id=\"926f0110-c354-4dc7-a23d-3cedf5a6a5c5\" class=\"plotly-graph-div\" style=\"height:525px; width:100%;\"></div>            <script type=\"text/javascript\">                require([\"plotly\"], function(Plotly) {                    window.PLOTLYENV=window.PLOTLYENV || {};                                    if (document.getElementById(\"926f0110-c354-4dc7-a23d-3cedf5a6a5c5\")) {                    Plotly.newPlot(                        \"926f0110-c354-4dc7-a23d-3cedf5a6a5c5\",                        [{\"marker\":{\"color\":\"black\"},\"x\":[\"West\",\"South\",\"East\",\"East\",\"Midwest\",\"West\",\"East\",\"North\",\"West\",\"North\",\"North\",\"None\"],\"y\":[2,3,4,9,9,22,23,23,29,46,56,73],\"type\":\"bar\"}],                        {\"title\":\"Deaths in ASOIAF by Region\"},                        {\"responsive\": true}                    ).then(function(){\n",
       "                            \n",
       "var gd = document.getElementById('926f0110-c354-4dc7-a23d-3cedf5a6a5c5');\n",
       "var x = new MutationObserver(function (mutations, observer) {{\n",
       "        var display = window.getComputedStyle(gd).display;\n",
       "        if (!display || display === 'none') {{\n",
       "            console.log([gd, 'removed!']);\n",
       "            Plotly.purge(gd);\n",
       "            observer.disconnect();\n",
       "        }}\n",
       "}});\n",
       "\n",
       "// Listen for the removal of the full notebook cells\n",
       "var notebookContainer = gd.closest('#notebook-container');\n",
       "if (notebookContainer) {{\n",
       "    x.observe(notebookContainer, {childList: true});\n",
       "}}\n",
       "\n",
       "// Listen for the clearing of the current output cell\n",
       "var outputEl = gd.closest('.output');\n",
       "if (outputEl) {{\n",
       "    x.observe(outputEl, {childList: true});\n",
       "}}\n",
       "\n",
       "                        })                };                });            </script>        </div>"
      ]
     },
     "metadata": {},
     "output_type": "display_data"
    }
   ],
   "source": [
    "data = [go.Bar(x = df4['Westeros Location'],\n",
    "               y = df4['Death Count'],\n",
    "               marker=dict(color='black')\n",
    "              )]\n",
    "\n",
    "layout = dict(title = \"Deaths in ASOIAF by Region\")\n",
    "fig = dict(data = data, layout = layout)\n",
    "iplot(fig, validate = False)"
   ]
  }
 ],
 "metadata": {
  "kernelspec": {
   "display_name": "default:Python",
   "language": "python",
   "name": "conda-env-default-py"
  },
  "language_info": {
   "codemirror_mode": {
    "name": "ipython",
    "version": 3
   },
   "file_extension": ".py",
   "mimetype": "text/x-python",
   "name": "python",
   "nbconvert_exporter": "python",
   "pygments_lexer": "ipython3",
   "version": "3.9.13"
  }
 },
 "nbformat": 4,
 "nbformat_minor": 5
}
